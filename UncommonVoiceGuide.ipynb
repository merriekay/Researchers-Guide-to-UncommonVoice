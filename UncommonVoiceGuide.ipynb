{
  "nbformat": 4,
  "nbformat_minor": 0,
  "metadata": {
    "colab": {
      "name": "UncommonVoiceGuide.ipynb",
      "provenance": [],
      "authorship_tag": "ABX9TyP+5eGRt7FniK2ZamFgFFr9",
      "include_colab_link": true
    },
    "kernelspec": {
      "name": "python3",
      "display_name": "Python 3"
    },
    "language_info": {
      "name": "python"
    }
  },
  "cells": [
    {
      "cell_type": "markdown",
      "metadata": {
        "id": "view-in-github",
        "colab_type": "text"
      },
      "source": [
        "<a href=\"https://colab.research.google.com/github/merriekay/Researchers-Guide-to-UncommonVoice/blob/main/UncommonVoiceGuide.ipynb\" target=\"_parent\"><img src=\"https://colab.research.google.com/assets/colab-badge.svg\" alt=\"Open In Colab\"/></a>"
      ]
    },
    {
      "cell_type": "markdown",
      "metadata": {
        "id": "S3YqIBWf4PPW"
      },
      "source": [
        "# Researcher's Guide to the UncommonVoice Dataset\n",
        "\n",
        "This guide will take you through the basic steps of getting UncommonVoice loaded and ready to work with.\n",
        "\n",
        "## How to get the data:\n",
        "To get access to the dataset, start by emailing meredith.moore@drake.edu with the suject `UncommonVoice Download`. There will be an automatic reply with a link to download the dataset as well as instructions as to how to cite the datset in your work. The zip file is 1.63 GB and includes 3693 speech samples from individuals with and without voice disorders.\n",
        "\n",
        "## How to cite the data:\n",
        "BibTex:\n",
        "```\n",
        "@article{moore2020uncommonvoice,\n",
        "  title={UncommonVoice: A Crowdsourced Dataset of Dysphonic Speech},\n",
        "  author={Moore, Meredith and Papreja, Piyush and Saxon, Michael and Berisha, Visar and Panchanathan, Sethuraman},\n",
        "  journal={Proc. Interspeech 2020},\n",
        "  pages={2532--2536},\n",
        "  year={2020}\n",
        "}\n",
        "```\n",
        "Other formats can be [found here](https://scholar.google.com/scholar?hl=en&as_sdt=0%2C16&q=UncommonVoice%3A+A+Crowdsourced+Dataset+of+Dysphonic+Speech&btnG=#d=gs_cit&u=%2Fscholar%3Fq%3Dinfo%3AwzEJyLPfAG0J%3Ascholar.google.com%2F%26output%3Dcite%26scirp%3D0%26hl%3Den)\n",
        "\n",
        "## Want more info?\n",
        "If you're curious about the details of UncommonVoice, you have a few options:\n",
        "- Read the [Interspeech 2020 paper here](https://img1.wsimg.com/blobby/go/bb8819fe-ceab-4aab-9326-de58f46295cf/downloads/UncommonVoice_IS2020.pdf?ver=1604346789008). \n",
        "- Check out my [personal website](https://merriekay.com/uncommonvoice) which basically recaps all of these details.\n",
        "- Watch the [Interspeech 2020 highlight video](https://youtu.be/QwXwfGbWAH4).\n",
        "- Or watch the [15-minute Interspeech presentation](https://youtu.be/lBEYCujz2L4).\n",
        "\n",
        "## Licensing:\n",
        "UncommonVoice is licensed under the [Creative Commons Attribution-NonCommercial-ShareAlike 4.0 International (CC BY-NC-SA 4.0)](https://creativecommons.org/licenses/by-nc-sa/4.0/)."
      ]
    },
    {
      "cell_type": "code",
      "metadata": {
        "id": "d2siO-0P4Olb"
      },
      "source": [
        ""
      ],
      "execution_count": null,
      "outputs": []
    }
  ]
}