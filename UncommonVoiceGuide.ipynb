{
  "nbformat": 4,
  "nbformat_minor": 0,
  "metadata": {
    "colab": {
      "name": "UncommonVoiceGuide.ipynb",
      "provenance": [],
      "toc_visible": true,
      "authorship_tag": "ABX9TyP/Lu12f+HVQ5Us7p1Is4de",
      "include_colab_link": true
    },
    "kernelspec": {
      "name": "python3",
      "display_name": "Python 3"
    },
    "language_info": {
      "name": "python"
    }
  },
  "cells": [
    {
      "cell_type": "markdown",
      "metadata": {
        "id": "view-in-github",
        "colab_type": "text"
      },
      "source": [
        "<a href=\"https://colab.research.google.com/github/merriekay/Researchers-Guide-to-UncommonVoice/blob/main/UncommonVoiceGuide.ipynb\" target=\"_parent\"><img src=\"https://colab.research.google.com/assets/colab-badge.svg\" alt=\"Open In Colab\"/></a>"
      ]
    },
    {
      "cell_type": "markdown",
      "metadata": {
        "id": "S3YqIBWf4PPW"
      },
      "source": [
        "# Researcher's Guide to the UncommonVoice Dataset\n",
        "\n",
        "This guide will take you through the basic steps of getting UncommonVoice loaded and ready to work with.\n",
        "\n",
        "## How to get the data:\n",
        "To get access to the dataset, start by emailing meredith.moore@drake.edu with the suject `UncommonVoice Download`. There will be an automatic reply with a link to download the dataset as well as instructions as to how to cite the datset in your work. The zip file is 1.63 GB and includes 3693 speech samples from individuals with and without voice disorders.\n",
        "\n",
        "## How to cite the data:\n",
        "BibTex:\n",
        "```\n",
        "@article{moore2020uncommonvoice,\n",
        "  title={UncommonVoice: A Crowdsourced Dataset of Dysphonic Speech},\n",
        "  author={Moore, Meredith and Papreja, Piyush and Saxon, Michael and Berisha, Visar and Panchanathan, Sethuraman},\n",
        "  journal={Proc. Interspeech 2020},\n",
        "  pages={2532--2536},\n",
        "  year={2020}\n",
        "}\n",
        "```\n",
        "Other formats can be [found here](https://scholar.google.com/scholar?hl=en&as_sdt=0%2C16&q=UncommonVoice%3A+A+Crowdsourced+Dataset+of+Dysphonic+Speech&btnG=#d=gs_cit&u=%2Fscholar%3Fq%3Dinfo%3AwzEJyLPfAG0J%3Ascholar.google.com%2F%26output%3Dcite%26scirp%3D0%26hl%3Den)\n",
        "\n",
        "## Want more info?\n",
        "If you're curious about the details of UncommonVoice, you have a few options:\n",
        "- Read the [Interspeech 2020 paper here](https://img1.wsimg.com/blobby/go/bb8819fe-ceab-4aab-9326-de58f46295cf/downloads/UncommonVoice_IS2020.pdf?ver=1604346789008). \n",
        "- Check out my [personal website](https://merriekay.com/uncommonvoice) which basically recaps all of these details.\n",
        "- Watch the [Interspeech 2020 highlight video](https://youtu.be/QwXwfGbWAH4).\n",
        "- Or watch the [15-minute Interspeech presentation](https://youtu.be/lBEYCujz2L4).\n",
        "\n",
        "## Licensing:\n",
        "UncommonVoice is licensed under the [Creative Commons Attribution-NonCommercial-ShareAlike 4.0 International (CC BY-NC-SA 4.0)](https://creativecommons.org/licenses/by-nc-sa/4.0/).\n"
      ]
    },
    {
      "cell_type": "markdown",
      "metadata": {
        "id": "pgGikAG-IF5m"
      },
      "source": [
        "# Some Tips/tricks:\n",
        "\n",
        "## Prompts:\n",
        "Subjects were asked to complete four sections of data collection: \n",
        "\n",
        "1. **Task 1**: Non-words (sustained corner vowels, and DDK rate)\n",
        "\n",
        "2. **Task 2**: Read Speech: Randomly selected TIMIT sentences and the sentences required to complete the CAPE-V intelligibility assessment\n",
        "\n",
        "3. **Task 3**: Image Descriptions: Spontaneous speech to describe images from the MSCOCO dataset.\n",
        "\n",
        "4. **Task 4**: Non-words (round 2 to measure any change in voice over data collection process). \n",
        "\n",
        "These prompts can be found in the `prompt` folder. They are split into T1-T4 corresponding to the above tasks. \n",
        "\n",
        "\n",
        "## How to decode the filename. \n",
        "Filename example: **FD04\\_si1997\\_31.wav**\n",
        "\n",
        "\\<**unique ID**\\>\\_ \\<**promptID**\\>\\_\\<**number of days post Botox treatment**\\>.wav\n",
        "\n",
        "Let's go character by character:\n",
        "- **First character** is either **F** or **M** and corresponds to the sex of the participant. F: female, M: male. \n",
        "- **Second character** is either **D** or **C** and corresponds to whether or not the speaker has a voice disorder. D: disorder C: Control (no disorder).\n",
        "- Then comes a number. The combination of the first section of the filename allows us to uniquely identify each participant.\n",
        "- After the first underscore comes the prompt. This is what was presented to the individual.For more information on the prompts, see above.\n",
        "    - Note that for non-words, the prompt does not directly correspond to what the participant said. \n",
        "    - For example, the prompt may have been `Please hold /a/ as in 'pot' for 5 seconds` but the speaker did not just read the prompt, they completed the task that it asked.\n",
        "- Last, but certaintly not least, we have another number. This number corresponds with the number of days since the speaker's last Botox Injection. Botox is the most common treatment for Spasmodic Dysphonia and the speaker's voice may be more or less clear based on when they recieved their last treatment. If this is **NA** then it means that they do not receive Botox treatment.\n",
        "\n",
        "Filename example: **FD04\\_si1997\\_31.wav**\n",
        "\n",
        "So for the example given above, we know the speech sample:\n",
        "- came from a female (**F**) with a voice disorder (**D**) and is saying what is found in `si1997.txt`. We also know that it is 31 days since she had a Botox injection."
      ]
    },
    {
      "cell_type": "code",
      "metadata": {
        "colab": {
          "base_uri": "https://localhost:8080/",
          "height": 221
        },
        "id": "d2siO-0P4Olb",
        "outputId": "12aa0ea3-9fef-4cbe-f5b5-f7bd290ad834"
      },
      "source": [
        "from google.colab import drive\n",
        "drive.mount('/content/drive')\n",
        "import pandas as pd\n",
        "import os\n",
        "\n",
        "directory = '/content/drive/MyDrive/Research/UncommonVoice/UncommonVoice_data/' #I extracted my files here, but you'll have to changet this to where you have your files\n",
        "\n",
        "#create a cvs file with the above information more clear:\n",
        "# <filname, sex, disorder, prompt, days since btx> \n",
        "\n",
        "file_list = []\n",
        "#file_list.append(['filename', 'sex', 'disorder', 'prompt', 'days_since_btx'])\n",
        "sex = 'male'\n",
        "disorder = 0\n",
        "days_since_btx = 'NA'\n",
        "\n",
        "\n",
        "for filename in os.listdir(directory):\n",
        "  if filename.endswith('.wav'):\n",
        "\n",
        "    split_file = filename.split('_')\n",
        "    unique_id = split_file[0]\n",
        "    task = split_file[1]\n",
        "    prompt = split_file[2]\n",
        "    days_since_bxt = split_file[3].split('.')[0]\n",
        "\n",
        "    # add sex\n",
        "    if unique_id[0] == 'F':\n",
        "      sex = 'female'\n",
        "    elif unique_id[0] == 'M':\n",
        "      sex = 'male'\n",
        "\n",
        "    # add disorder\n",
        "    if unique_id[1] == 'D':\n",
        "      disorder = 1\n",
        "    elif unique_id[1] == 'C':\n",
        "      disorder = 0\n",
        "\n",
        "    #append\n",
        "    file_list.append([filename, sex, disorder, prompt, days_since_btx])\n",
        "\n",
        "#convert to a DataFrame\n",
        "df = pd.DataFrame(file_list, columns=['filename', 'sex', 'disorder', 'prompt', 'days_since_btx'])\n",
        "df.head()"
      ],
      "execution_count": 27,
      "outputs": [
        {
          "output_type": "stream",
          "text": [
            "Drive already mounted at /content/drive; to attempt to forcibly remount, call drive.mount(\"/content/drive\", force_remount=True).\n"
          ],
          "name": "stdout"
        },
        {
          "output_type": "execute_result",
          "data": {
            "text/html": [
              "<div>\n",
              "<style scoped>\n",
              "    .dataframe tbody tr th:only-of-type {\n",
              "        vertical-align: middle;\n",
              "    }\n",
              "\n",
              "    .dataframe tbody tr th {\n",
              "        vertical-align: top;\n",
              "    }\n",
              "\n",
              "    .dataframe thead th {\n",
              "        text-align: right;\n",
              "    }\n",
              "</style>\n",
              "<table border=\"1\" class=\"dataframe\">\n",
              "  <thead>\n",
              "    <tr style=\"text-align: right;\">\n",
              "      <th></th>\n",
              "      <th>filename</th>\n",
              "      <th>sex</th>\n",
              "      <th>disorder</th>\n",
              "      <th>prompt</th>\n",
              "      <th>days_since_btx</th>\n",
              "    </tr>\n",
              "  </thead>\n",
              "  <tbody>\n",
              "    <tr>\n",
              "      <th>0</th>\n",
              "      <td>FD032_T2_sx432_NA.wav</td>\n",
              "      <td>female</td>\n",
              "      <td>1</td>\n",
              "      <td>sx432</td>\n",
              "      <td>NA</td>\n",
              "    </tr>\n",
              "    <tr>\n",
              "      <th>1</th>\n",
              "      <td>MC04_T2_si1949_NA.wav</td>\n",
              "      <td>male</td>\n",
              "      <td>0</td>\n",
              "      <td>si1949</td>\n",
              "      <td>NA</td>\n",
              "    </tr>\n",
              "    <tr>\n",
              "      <th>2</th>\n",
              "      <td>FD020_T2_si1083_NA.wav</td>\n",
              "      <td>female</td>\n",
              "      <td>1</td>\n",
              "      <td>si1083</td>\n",
              "      <td>NA</td>\n",
              "    </tr>\n",
              "    <tr>\n",
              "      <th>3</th>\n",
              "      <td>FD05_T2_si1055_116.wav</td>\n",
              "      <td>female</td>\n",
              "      <td>1</td>\n",
              "      <td>si1055</td>\n",
              "      <td>NA</td>\n",
              "    </tr>\n",
              "    <tr>\n",
              "      <th>4</th>\n",
              "      <td>MD06_T2_sx448_NA.wav</td>\n",
              "      <td>male</td>\n",
              "      <td>1</td>\n",
              "      <td>sx448</td>\n",
              "      <td>NA</td>\n",
              "    </tr>\n",
              "  </tbody>\n",
              "</table>\n",
              "</div>"
            ],
            "text/plain": [
              "                 filename     sex  disorder  prompt days_since_btx\n",
              "0   FD032_T2_sx432_NA.wav  female         1   sx432             NA\n",
              "1   MC04_T2_si1949_NA.wav    male         0  si1949             NA\n",
              "2  FD020_T2_si1083_NA.wav  female         1  si1083             NA\n",
              "3  FD05_T2_si1055_116.wav  female         1  si1055             NA\n",
              "4    MD06_T2_sx448_NA.wav    male         1   sx448             NA"
            ]
          },
          "metadata": {
            "tags": []
          },
          "execution_count": 27
        }
      ]
    },
    {
      "cell_type": "code",
      "metadata": {
        "id": "tQdpqq92QA8k",
        "colab": {
          "base_uri": "https://localhost:8080/"
        },
        "outputId": "4fd0a742-6c67-4627-b94d-43ddbe91dd49"
      },
      "source": [
        "# of files per sex\n",
        "df.value_counts('sex')"
      ],
      "execution_count": 29,
      "outputs": [
        {
          "output_type": "execute_result",
          "data": {
            "text/plain": [
              "sex\n",
              "female    2776\n",
              "male       917\n",
              "dtype: int64"
            ]
          },
          "metadata": {
            "tags": []
          },
          "execution_count": 29
        }
      ]
    },
    {
      "cell_type": "code",
      "metadata": {
        "colab": {
          "base_uri": "https://localhost:8080/"
        },
        "id": "ir3_nkuhTlcI",
        "outputId": "0264f48a-f27b-494b-a9a7-d2b139b8632e"
      },
      "source": [
        "# of files with/without voice disorder\n",
        "df.value_counts('disorder')"
      ],
      "execution_count": 30,
      "outputs": [
        {
          "output_type": "execute_result",
          "data": {
            "text/plain": [
              "disorder\n",
              "1    2913\n",
              "0     780\n",
              "dtype: int64"
            ]
          },
          "metadata": {
            "tags": []
          },
          "execution_count": 30
        }
      ]
    },
    {
      "cell_type": "code",
      "metadata": {
        "id": "mJTa0m6sVWpQ"
      },
      "source": [
        "df.to_csv('UncommonVoice_file_descriptions.csv')"
      ],
      "execution_count": 35,
      "outputs": []
    },
    {
      "cell_type": "code",
      "metadata": {
        "colab": {
          "base_uri": "https://localhost:8080/",
          "height": 17
        },
        "id": "i5Xi-ej5VZ_v",
        "outputId": "5e87af12-f247-4e7e-8fee-543337defba7"
      },
      "source": [
        "from google.colab import files\n",
        "\n",
        "files.download('UncommonVoice_file_descriptions.csv') "
      ],
      "execution_count": 37,
      "outputs": [
        {
          "output_type": "display_data",
          "data": {
            "application/javascript": [
              "\n",
              "    async function download(id, filename, size) {\n",
              "      if (!google.colab.kernel.accessAllowed) {\n",
              "        return;\n",
              "      }\n",
              "      const div = document.createElement('div');\n",
              "      const label = document.createElement('label');\n",
              "      label.textContent = `Downloading \"${filename}\": `;\n",
              "      div.appendChild(label);\n",
              "      const progress = document.createElement('progress');\n",
              "      progress.max = size;\n",
              "      div.appendChild(progress);\n",
              "      document.body.appendChild(div);\n",
              "\n",
              "      const buffers = [];\n",
              "      let downloaded = 0;\n",
              "\n",
              "      const channel = await google.colab.kernel.comms.open(id);\n",
              "      // Send a message to notify the kernel that we're ready.\n",
              "      channel.send({})\n",
              "\n",
              "      for await (const message of channel.messages) {\n",
              "        // Send a message to notify the kernel that we're ready.\n",
              "        channel.send({})\n",
              "        if (message.buffers) {\n",
              "          for (const buffer of message.buffers) {\n",
              "            buffers.push(buffer);\n",
              "            downloaded += buffer.byteLength;\n",
              "            progress.value = downloaded;\n",
              "          }\n",
              "        }\n",
              "      }\n",
              "      const blob = new Blob(buffers, {type: 'application/binary'});\n",
              "      const a = document.createElement('a');\n",
              "      a.href = window.URL.createObjectURL(blob);\n",
              "      a.download = filename;\n",
              "      div.appendChild(a);\n",
              "      a.click();\n",
              "      div.remove();\n",
              "    }\n",
              "  "
            ],
            "text/plain": [
              "<IPython.core.display.Javascript object>"
            ]
          },
          "metadata": {
            "tags": []
          }
        },
        {
          "output_type": "display_data",
          "data": {
            "application/javascript": [
              "download(\"download_87b76c85-8dd8-43f0-846c-cf152c4f910d\", \"UncommonVoice_file_descriptions.csv\", 161385)"
            ],
            "text/plain": [
              "<IPython.core.display.Javascript object>"
            ]
          },
          "metadata": {
            "tags": []
          }
        }
      ]
    },
    {
      "cell_type": "code",
      "metadata": {
        "id": "_GCq1-8hWHMc"
      },
      "source": [
        ""
      ],
      "execution_count": null,
      "outputs": []
    }
  ]
}